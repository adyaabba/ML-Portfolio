{
  "cells": [
    {
      "cell_type": "markdown",
      "metadata": {
        "id": "isRX-62UVMFL"
      },
      "source": [
        "\n",
        "- Train on randomly generated circles (using the circle_generator function below)\n",
        "- Use 27x27 pixel images\n",
        "- Use no more than 30,000 randomly generated samples (e.g. batchsize 30 and 1000 steps, or batchsize 1000 and 30 steps, or anywhere inbetween) in training the final networks for each task\n",
        "- Use the mean_squared_error loss function\n",
        "- Fulfil the network size requirement listed in the task (can be verifired using the print_layers function, after the network is partially trained)\n",
        "\n",
        "### Task 1:\n",
        "Implement any network design, but the bottleneck must contain no more than 9 neurons.\n",
        "\n",
        "### Task 2:\n",
        "Implement any network design, but the bottleneck must contain no more than 3 neurons.\n",
        "\n",
        "\n",
        "\n",
        "#### Practicalities\n",
        "You should use this notebook for your work and upload it to  Moodle. You are expected to use TensorFlow and Keras to complete these tasks. The notebook should be self-contained and able to be executed if necessary. Marks will be awarded for (roughly equally weighted):\n",
        "- Overall notebook clarity (both in terms of good coding practice and coherent discussion)\n",
        "- Task 1 performance (0.02 is a good target cost to do better than)\n",
        "- Task 2 performance ( a good target here is left for the student to determine)\n",
        "\n"
      ]
    },
    {
      "cell_type": "code",
      "execution_count": null,
      "metadata": {
        "id": "aniF-d0nVMFM"
      },
      "outputs": [],
      "source": [
        "import matplotlib.pyplot as plt\n",
        "import numpy as np\n",
        "import math"
      ]
    },
    {
      "cell_type": "code",
      "execution_count": null,
      "metadata": {
        "id": "f2Rs-BtlVMFO"
      },
      "outputs": [],
      "source": [
        "#A big messy function to do the training\n",
        "# model -- our keras neural model autoencoder\n",
        "# image_generator -- a function to generate random images for the training (see below for examples)\n",
        "# img_size -- the size of our image in pixels\n",
        "# batchsize -- the number of images to include in each training batch\n",
        "# steps -- the number of steps taken in the training\n",
        "#\n",
        "# returns an array of the costs\n",
        "def generate_and_train(model,image_generator,img_size,batchsize,steps):\n",
        "\n",
        "    #Generate an array of the numbers 1 to img_size and create a meshgrid from them\n",
        "    pixels=np.linspace(-1,1,img_size)\n",
        "    x,y=np.meshgrid(pixels,pixels)\n",
        "\n",
        "    #Now create a test image using 1 call to image_generator\n",
        "    #y_test=np.zeros([1,pixels,pixels,1])\n",
        "    #y_test[:,:,:,0]=image_generator(1,x,y)\n",
        "\n",
        "    #Now create the empty arrays for the images and cost\n",
        "    y_in=np.zeros([batchsize,img_size,img_size,1])\n",
        "    y_target=np.zeros([batchsize,img_size,img_size,1])\n",
        "    cost=np.zeros(steps)\n",
        "\n",
        "    #Loop through the steps, get a random batch of samples, train the model, repeat\n",
        "    for k in range(steps):\n",
        "        # produce samples:\n",
        "        y_in[:,:,:,0]=image_generator(batchsize,x,y)\n",
        "        y_target=np.copy(y_in) # autoencoder wants to reproduce its input!\n",
        "\n",
        "        # do one training step on this batch of samples:\n",
        "        cost[k]=model.train_on_batch(y_in,y_target)\n",
        "\n",
        "    return cost,y_target\n",
        "\n",
        "def get_test_image(image_generator,img_size):\n",
        "    #Generate an array of the numbers 1 to img_size and create a meshgrid from them\n",
        "    pixels=np.linspace(-1,1,img_size)\n",
        "    x,y=np.meshgrid(pixels,pixels)\n",
        "\n",
        "    #Now create a test image using 1 call to image_generator\n",
        "    y_test=np.zeros([1,img_size,img_size,1])\n",
        "    y_test[:,:,:,0]=image_generator(1,x,y)\n",
        "    return y_test\n",
        "\n",
        "# A function to generate and plot a single test image and the output of our model\n",
        "# only to be called after training the model\n",
        "def plot_test_image(model,image_generator,img_size):\n",
        "    #Get random test image\n",
        "    y_test=get_test_image(image_generator,img_size)\n",
        "\n",
        "    #Create the output image\n",
        "    y_test_out=model.predict_on_batch(y_test)\n",
        "    fig, ax = plt.subplots(1,2)\n",
        "    ax[0].imshow(y_test[0,:,:,0],origin='lower')\n",
        "    ax[0].set_title(\"Input\")\n",
        "    ax[1].imshow(y_test_out[0,:,:,0],origin='lower')\n",
        "    ax[1].set_title(\"Output\")\n",
        "\n",
        "def print_layers(network, y_in):\n",
        "    \"\"\"\n",
        "    Call this on some test images y_in, to get a print-out of\n",
        "    the layer sizes. Shapes shown are (batchsize,pixels,pixels,channels).\n",
        "    After a call to the visualization routine, y_target will contain\n",
        "    the last set of training images, so you could feed those in here.\n",
        "    \"\"\"\n",
        "    layer_features=get_layer_activations(network,y_in)\n",
        "    #print(layer_features)\n",
        "    for idx,feature in enumerate(layer_features):\n",
        "        s=np.shape(feature)\n",
        "        num_neurons = np.prod(s[1:])  # Calculate the number of neurons excluding the batch dimension\n",
        "        print(f\"Layer {idx}: {num_neurons} neurons / {s}\")\n",
        "        #print(\"Layer \"+str(idx)+\": \"+str(s[1]*s[2]*s[3])+\" neurons / \", s)\n",
        "\n",
        "def get_layer_activation_extractor(network):\n",
        "    #print(network.inputs)\n",
        "    #for layer in network.layers:\n",
        "    #    print(layer.output)\n",
        "    return(keras.Model(inputs=network.inputs,\n",
        "                            outputs=[layer.output for layer in network.layers]))\n",
        "\n",
        "def get_layer_activations(network, y_in):\n",
        "    \"\"\"\n",
        "    Call this on some test images y_in, to get the intermediate\n",
        "    layer neuron values. These are returned in a list, with one\n",
        "    entry for each layer (the entries are arrays).\n",
        "    \"\"\"\n",
        "    extractor=get_layer_activation_extractor(network)\n",
        "    #print(extractor)\n",
        "    layer_features = extractor(y_in)\n",
        "    return layer_features\n"
      ]
    },
    {
      "cell_type": "markdown",
      "metadata": {
        "id": "5CRFAkLHVMFP"
      },
      "source": [
        "## Circle generator\n"
      ]
    },
    {
      "cell_type": "code",
      "execution_count": null,
      "metadata": {
        "id": "_Z9ezRajVMFQ"
      },
      "outputs": [],
      "source": [
        "# A simple image generator that returns an array of batchsize images\n",
        "# each image has a size of x * y pixels\n",
        "# in this image each image has a randomly placed circle (and the circle is of random size)\n",
        "def circle_generator(batchsize,x,y):\n",
        "    R=np.random.uniform(size=batchsize)\n",
        "    x0=np.random.uniform(size=batchsize,low=-1,high=1)\n",
        "    y0=np.random.uniform(size=batchsize,low=-1,high=1)\n",
        "    return( 1.0*((x[None,:,:]-x0[:,None,None])**2 + (y[None,:,:]-y0[:,None,None])**2 < R[:,None,None]**2) )\n"
      ]
    },
    {
      "cell_type": "code",
      "source": [
        "#TASK 1: AUTOENCODER, 9 NEURONS, ~ 1 min 30 secs runtime\n",
        "\n",
        "# DEFINE NETWORK\n",
        "import tensorflow as tf\n",
        "from tensorflow import keras\n",
        "from tensorflow.keras import layers, models\n",
        "\n",
        "model = models.Sequential([\n",
        "    layers.Input(shape=(27, 27, 1)),\n",
        "    layers.MaxPooling2D((2, 2), padding='same'),\n",
        "    layers.Conv2D(16, (3, 3), activation='relu', padding='same'),\n",
        "\n",
        "    # Flatten and go through the Bottleneck\n",
        "    layers.Flatten(),\n",
        "    layers.Dense(9, activation='relu'),  # Bottleneck with 9 neurons\n",
        "\n",
        "    # Decoder with Convolutional Layers\n",
        "    layers.Dense(7 * 7 * 16, activation='relu'),  # Adjusted size to fit the convolutional structure\n",
        "    layers.Reshape((7, 7, 16)),\n",
        "    layers.Conv2DTranspose(16, (3, 3), strides=2, activation='relu', padding='valid'),  # Upsample to [15, 15, 16]\n",
        "    layers.Conv2DTranspose(32, (3, 3), strides=2, activation='relu', padding='valid'),  # Upsample to [31, 31, 32]\n",
        "    layers.Cropping2D(cropping=((2, 2), (2, 2))),  # Crop to [27, 27, 32]\n",
        "    layers.Conv2D(1, (3, 3), activation='sigmoid', padding='same')  # Final output layer\n",
        "])\n",
        "\n",
        "#COMPILE AND TRAIN MODEL\n",
        "model.compile(loss='mean_squared_error',\n",
        "              optimizer='adam')\n",
        "\n",
        "steps=3000\n",
        "cost,y_target=generate_and_train(model,circle_generator,img_size=9*3,batchsize=10,steps=steps)\n",
        "\n",
        "\n",
        "model.summary()\n",
        "\n",
        "#COST FUNCTION\n",
        "final_cost = cost[-1]\n",
        "print(f\"The final training cost is: {final_cost}\")\n",
        "\n"
      ],
      "metadata": {
        "colab": {
          "base_uri": "https://localhost:8080/"
        },
        "id": "df1XmedW2eaI",
        "outputId": "df881188-a554-415a-9474-018863119a0e"
      },
      "execution_count": null,
      "outputs": [
        {
          "output_type": "stream",
          "name": "stdout",
          "text": [
            "Model: \"sequential_4\"\n",
            "_________________________________________________________________\n",
            " Layer (type)                Output Shape              Param #   \n",
            "=================================================================\n",
            " max_pooling2d_4 (MaxPoolin  (None, 14, 14, 1)         0         \n",
            " g2D)                                                            \n",
            "                                                                 \n",
            " conv2d_8 (Conv2D)           (None, 14, 14, 16)        160       \n",
            "                                                                 \n",
            " flatten_4 (Flatten)         (None, 3136)              0         \n",
            "                                                                 \n",
            " dense_8 (Dense)             (None, 9)                 28233     \n",
            "                                                                 \n",
            " dense_9 (Dense)             (None, 784)               7840      \n",
            "                                                                 \n",
            " reshape_4 (Reshape)         (None, 7, 7, 16)          0         \n",
            "                                                                 \n",
            " conv2d_transpose_8 (Conv2D  (None, 15, 15, 16)        2320      \n",
            " Transpose)                                                      \n",
            "                                                                 \n",
            " conv2d_transpose_9 (Conv2D  (None, 31, 31, 32)        4640      \n",
            " Transpose)                                                      \n",
            "                                                                 \n",
            " cropping2d_4 (Cropping2D)   (None, 27, 27, 32)        0         \n",
            "                                                                 \n",
            " conv2d_9 (Conv2D)           (None, 27, 27, 1)         289       \n",
            "                                                                 \n",
            "=================================================================\n",
            "Total params: 43482 (169.85 KB)\n",
            "Trainable params: 43482 (169.85 KB)\n",
            "Non-trainable params: 0 (0.00 Byte)\n",
            "_________________________________________________________________\n",
            "The final training cost is: 0.009443522430956364\n"
          ]
        }
      ]
    },
    {
      "cell_type": "code",
      "source": [
        "#improving model performance with a function, ~ 1 min\n",
        "\n",
        "def prune_weights(model, threshold=0.01):\n",
        "    '''Prunes weights in the specified model by setting values below a threshold to zero. Removes neurons that don't do anything - improves performance of our model\n",
        "\n",
        "    Parameters:\n",
        "        model (keras.models.Sequential): The model whose weights are to be pruned.\n",
        "        threshold (float): The threshold below which weights are set to zero. Default is 0.01.\n",
        "\n",
        "    Returns:\n",
        "        keras.models.Sequential: The pruned model with updated weights.\n",
        "         '''\n",
        "    for layer in model.layers:\n",
        "        if isinstance(layer, layers.Dense) or isinstance(layer, layers.Conv2D):\n",
        "            weights, biases = layer.get_weights()\n",
        "            pruned_weights = np.where(np.abs(weights) < threshold, 0, weights)\n",
        "            layer.set_weights([pruned_weights, biases])\n",
        "    return model\n",
        "\n",
        "\n",
        "# Then, prune the model\n",
        "pruned_model_og = prune_weights(model)\n",
        "\n",
        "pruned_model_og.compile(optimizer='adam', loss='mean_squared_error')\n",
        "\n",
        "##Retrain the Pruned Model\n",
        "pruned_cost_array_og, y_target_pruned_og = generate_and_train(pruned_model_og, circle_generator, 27, batchsize=1000, steps=30)\n",
        "\n",
        "# To check the final cost after training:\n",
        "final_cost_pruned_og = pruned_cost_array_og[-1]\n",
        "print(f\"The pruned final training cost is: {final_cost_pruned_og}\")"
      ],
      "metadata": {
        "colab": {
          "base_uri": "https://localhost:8080/"
        },
        "id": "H6MnlHkhiiTq",
        "outputId": "5385844a-2fad-4d46-dd09-cb083c5b06a9"
      },
      "execution_count": null,
      "outputs": [
        {
          "output_type": "stream",
          "name": "stdout",
          "text": [
            "The pruned final training cost is: 0.007045758422464132\n"
          ]
        }
      ]
    },
    {
      "cell_type": "code",
      "source": [
        "#print_layers() to see no. of neurons per layer\n",
        "print_layers(model, y_target)\n",
        "\n",
        "#check generated circle vs output of autoencoder (9 neuron bottleneck)\n",
        "plot_test_image(pruned_model_og, circle_generator, 27)\n",
        "plt.title('Autoencoder (9 neurons)')"
      ],
      "metadata": {
        "colab": {
          "base_uri": "https://localhost:8080/",
          "height": 536
        },
        "id": "6GKAPtjQfWKY",
        "outputId": "27ba0161-4525-476b-def5-0d0f51907d24"
      },
      "execution_count": null,
      "outputs": [
        {
          "output_type": "stream",
          "name": "stdout",
          "text": [
            "WARNING:tensorflow:6 out of the last 10 calls to <function Model.make_predict_function.<locals>.predict_function at 0x7f8eaa0f2b00> triggered tf.function retracing. Tracing is expensive and the excessive number of tracings could be due to (1) creating @tf.function repeatedly in a loop, (2) passing tensors with different shapes, (3) passing Python objects instead of tensors. For (1), please define your @tf.function outside of the loop. For (2), @tf.function has reduce_retracing=True option that can avoid unnecessary retracing. For (3), please refer to https://www.tensorflow.org/guide/function#controlling_retracing and https://www.tensorflow.org/api_docs/python/tf/function for more details.\n",
            "Layer 0: 196 neurons / (10, 14, 14, 1)\n",
            "Layer 1: 3136 neurons / (10, 14, 14, 16)\n",
            "Layer 2: 3136 neurons / (10, 3136)\n",
            "Layer 3: 3 neurons / (10, 3)\n",
            "Layer 4: 784 neurons / (10, 784)\n",
            "Layer 5: 784 neurons / (10, 7, 7, 16)\n",
            "Layer 6: 3600 neurons / (10, 15, 15, 16)\n",
            "Layer 7: 29662 neurons / (10, 31, 31, 32)\n",
            "Layer 8: 23328 neurons / (10, 27, 27, 32)\n",
            "Layer 9: 729 neurons / (10, 27, 27, 1)\n"
          ]
        },
        {
          "output_type": "execute_result",
          "data": {
            "text/plain": [
              "Text(0.5, 1.0, 'Autoencoder (9 neurons)')"
            ]
          },
          "metadata": {},
          "execution_count": 38
        },
        {
          "output_type": "display_data",
          "data": {
            "text/plain": [
              "<Figure size 640x480 with 2 Axes>"
            ],
            "image/png": "[encoded data removed]"
          },
          "metadata": {}
        }
      ]
    },
    {
      "cell_type": "code",
      "source": [
        "#TASK 2: AUTOENCODER, 3 NEURONS, ~ 3 min\n",
        "\n",
        "# DEFINE NETWORK\n",
        "model1 = models.Sequential([\n",
        "    layers.Input(shape=(27, 27, 1)),\n",
        "    layers.MaxPooling2D((2, 2), padding='same'),\n",
        "    layers.Conv2D(16, (3, 3), activation='relu', padding='same'),\n",
        "\n",
        "    # Flatten and go through the Bottleneck\n",
        "    layers.Flatten(),\n",
        "    layers.Dense(3, activation='relu'),  # Bottleneck with 3 neurons\n",
        "\n",
        "    # Decoder with Convolutional Layers\n",
        "    layers.Dense(7 * 7 * 16, activation='relu'),  # Adjusted size to fit the convolutional structure\n",
        "    layers.Reshape((7, 7, 16)),\n",
        "    layers.Conv2DTranspose(16, (3, 3), strides=2, activation='relu', padding='valid'),  # Upsample to [15, 15, 16]\n",
        "    layers.Conv2DTranspose(32, (3, 3), strides=2, activation='relu', padding='valid'),  # Upsample to [31, 31, 32]\n",
        "    layers.Cropping2D(cropping=((2, 2), (2, 2))),  # Crop to [27, 27, 32]\n",
        "    layers.Conv2D(1, (3, 3), activation='sigmoid', padding='same')  # Final output layer\n",
        "])\n",
        "\n",
        "#COMPILE AND TRAIN MODEL\n",
        "model1.compile(loss='mean_squared_error',\n",
        "              optimizer='adam')\n",
        "\n",
        "steps_new=3000\n",
        "cost_array,y_target_new =generate_and_train(model1,circle_generator,img_size=9*3,batchsize=10,steps=steps_new)\n",
        "\n",
        "\n",
        "model1.summary()\n",
        "\n",
        "\n",
        "#COST FUNCTION\n",
        "final_cost_new = cost_array[-1]\n",
        "print(f\"The final training cost is: {final_cost_new}\")\n",
        "\n",
        "\n",
        "# Then, prune the model\n",
        "pruned_model = prune_weights(model1)\n",
        "\n",
        "pruned_model.compile(optimizer='adam', loss='mean_squared_error')\n",
        "\n",
        "##Retrain the Pruned Model\n",
        "pruned_cost_array, y_target_pruned = generate_and_train(pruned_model, circle_generator, 27, batchsize=10, steps=steps_new)\n",
        "\n",
        "# To check the final cost after training:\n",
        "final_cost_pruned = pruned_cost_array[-1]\n",
        "print(f\"The pruned final training cost is: {final_cost_pruned}\")\n",
        "\n"
      ],
      "metadata": {
        "id": "N9SX92_p2eqO",
        "colab": {
          "base_uri": "https://localhost:8080/"
        },
        "outputId": "ee6dc874-feb5-47cf-f0c7-bda11c924bfd"
      },
      "execution_count": null,
      "outputs": [
        {
          "output_type": "stream",
          "name": "stdout",
          "text": [
            "Model: \"sequential_7\"\n",
            "_________________________________________________________________\n",
            " Layer (type)                Output Shape              Param #   \n",
            "=================================================================\n",
            " max_pooling2d_7 (MaxPoolin  (None, 14, 14, 1)         0         \n",
            " g2D)                                                            \n",
            "                                                                 \n",
            " conv2d_14 (Conv2D)          (None, 14, 14, 16)        160       \n",
            "                                                                 \n",
            " flatten_7 (Flatten)         (None, 3136)              0         \n",
            "                                                                 \n",
            " dense_14 (Dense)            (None, 3)                 9411      \n",
            "                                                                 \n",
            " dense_15 (Dense)            (None, 784)               3136      \n",
            "                                                                 \n",
            " reshape_7 (Reshape)         (None, 7, 7, 16)          0         \n",
            "                                                                 \n",
            " conv2d_transpose_14 (Conv2  (None, 15, 15, 16)        2320      \n",
            " DTranspose)                                                     \n",
            "                                                                 \n",
            " conv2d_transpose_15 (Conv2  (None, 31, 31, 32)        4640      \n",
            " DTranspose)                                                     \n",
            "                                                                 \n",
            " cropping2d_7 (Cropping2D)   (None, 27, 27, 32)        0         \n",
            "                                                                 \n",
            " conv2d_15 (Conv2D)          (None, 27, 27, 1)         289       \n",
            "                                                                 \n",
            "=================================================================\n",
            "Total params: 19956 (77.95 KB)\n",
            "Trainable params: 19956 (77.95 KB)\n",
            "Non-trainable params: 0 (0.00 Byte)\n",
            "_________________________________________________________________\n",
            "The final training cost is: 0.011270532384514809\n",
            "The pruned final training cost is: 0.010664056986570358\n"
          ]
        }
      ]
    },
    {
      "cell_type": "code",
      "source": [
        "#print_layers() to see no. of neurons per layer\n",
        "print_layers(model1, y_target_new)\n",
        "\n",
        "#check generated circle vs output of autoencoder (3 neuron bottleneck)\n",
        "plot_test_image(pruned_model, circle_generator, 27)"
      ],
      "metadata": {
        "colab": {
          "base_uri": "https://localhost:8080/",
          "height": 518
        },
        "id": "zKKq9Ma2hVuV",
        "outputId": "b96a2565-b54e-4cca-c99e-211313c39e2a"
      },
      "execution_count": null,
      "outputs": [
        {
          "output_type": "stream",
          "name": "stdout",
          "text": [
            "WARNING:tensorflow:6 out of the last 10 calls to <function Model.make_predict_function.<locals>.predict_function at 0x7f8eaa0f2b00> triggered tf.function retracing. Tracing is expensive and the excessive number of tracings could be due to (1) creating @tf.function repeatedly in a loop, (2) passing tensors with different shapes, (3) passing Python objects instead of tensors. For (1), please define your @tf.function outside of the loop. For (2), @tf.function has reduce_retracing=True option that can avoid unnecessary retracing. For (3), please refer to https://www.tensorflow.org/guide/function#controlling_retracing and https://www.tensorflow.org/api_docs/python/tf/function for more details.\n",
            "Layer 0: 196 neurons / (10, 14, 14, 1)\n",
            "Layer 1: 3136 neurons / (10, 14, 14, 16)\n",
            "Layer 2: 3136 neurons / (10, 3136)\n",
            "Layer 3: 3 neurons / (10, 3)\n",
            "Layer 4: 784 neurons / (10, 784)\n",
            "Layer 5: 784 neurons / (10, 7, 7, 16)\n",
            "Layer 6: 3600 neurons / (10, 15, 15, 16)\n",
            "Layer 7: 29662 neurons / (10, 31, 31, 32)\n",
            "Layer 8: 23328 neurons / (10, 27, 27, 32)\n",
            "Layer 9: 729 neurons / (10, 27, 27, 1)\n"
          ]
        },
        {
          "output_type": "display_data",
          "data": {
            "text/plain": [
              "<Figure size 640x480 with 2 Axes>"
            ],
            "image/png": "[encoded data removed]"
          },
          "metadata": {}
        }
      ]
    },
    {
      "cell_type": "markdown",
      "source": [
        "###Conclusion\n",
        "\n",
        "Model architecture:The inclusion of convolutional, pooling, dense, and transpose convolutional layers in the autoencoder architecture facilitates effective feature extraction, dimensionality reduction, and reconstruction of input images. The bottleneck layer serves as the compressed representation of the input data, capturing the key features of an image.\n",
        "\n",
        "\n",
        "Bottleneck size:\n",
        "\n",
        "In Task 1, the bottleneck with 9 neurons allowed us to strike a balance between retaining essential information for effective reconstruction while still managing computational complexity within reasonable bounds. However, Task 2's constraint of a bottleneck with only 3 neurons posed a more significant challenge, as it required more aggressive compression, leading to a pronounced trade-off between preserving critical details and maintaining computational efficiency.\n",
        "\n",
        "Training performance:\n",
        "\n",
        "We observed notable differences between the two architectures. For the network with a 9-neuron bottleneck, we achieved a final training cost of 0.0094. After pruning, the cost further decreased to 0.0070, indicating successful convergence with minimal redundancy. Conversely, the network with a 3-neuron bottleneck presented greater challenges, with a final training cost of 0.0113, reflecting a more constrained architecture that struggled to capture essential features. Despite pruning, the cost remained relatively high at 0.0107, suggesting potential issues with underfitting due to excessive compression.\n",
        "\n",
        "Pruning involved removing insignificant weights from the model, aiming to reduce redundancy and improve efficiency. While pruning helped marginally lower the final training cost, it failed to address the fundamental challenge of representing complex data with a constrained bottleneck. This underscores the limitations of pruning alone in improving performance and emphasises the need for a well-designed architecture from the outset. This illustrates the delicate tradeoff between model capacity and its ability to capture essential features, emphasising the need for careful consideration of architecture design to achieve optimal performance.\n",
        "\n",
        "Generalisation:\n",
        "\n",
        "Due to it’s higher cost function, the 9-neuron bottleneck model offers a higher capacity to capture intricate features present in the randomly generated circles due to its larger bottleneck size. With more neurons available in the bottleneck layer, the model can encode and decode a richer representation of the input data, potentially resulting in a more faithful reconstruction of the circles during training. This enhanced capacity allows the model to better generalise to unseen data by effectively capturing the underlying patterns and variations present in the circle images, leading to improved performance in terms of reconstruction accuracy and final training cost.\n",
        "\n",
        "Task specific:\n",
        "\n",
        "The constraints posed by the circle generator function, requiring the reconstruction of 27x27 pixel images from randomly generated circles, influenced our network design choices significantly.\n",
        "\n",
        "Additionally, we adjusted batch sizes and training steps to ensure compliance with the sample size constraint while aiming for optimal convergence. By adjusting the batch size to 10 and the number of training steps to 3000, I aimed to balance computational efficiency with effective learning. Experimenting with different multiples of batch size and training steps, ensuring the total sample size remains within the specified limit of 30,000, allowed for thorough exploration of the model's learning dynamics. This iterative approach enabled me to identify the configuration that yielded the lowest final training cost, indicating a more efficient use of the available data for training the autoencoder networks.\n",
        "\n",
        "Future directions:\n",
        "\n",
        "It's worth exploring alternative network architectures, such as deeper or more complex models, to potentially improve the autoencoder networks' performance.\n",
        "Exploring deeper or more complex models involves increasing the number of layers and adjusting their width, aiming to capture intricate patterns in the data for improved performance. However, balancing model complexity with computational resources and the risk of overfitting is crucial, as deeper or more complex models may require extensive training and regularisation to prevent overfitting on limited datasets.\n",
        "\n",
        "Additionally, experimenting with different regularisation techniques, such as dropout or batch normalisation, could help address any overfitting issues encountered during training.\n",
        "\n",
        "Furthermore, investigating alternative loss functions (metrics other than the mean squared error) tailored to the specific task requirements might provide insights into further optimising the models. This could include perceptual loss for image reconstruction tasks or adversarial loss for generative tasks. By exploring and adapting loss functions to match the task requirements, one can potentially improve the model's ability to learn meaningful representations and generate more accurate outputs.\n"
      ],
      "metadata": {
        "id": "akfrt_vKhigN"
      }
    },
    {
      "cell_type": "code",
      "source": [],
      "metadata": {
        "id": "MyWwTZfcwjZP"
      },
      "execution_count": null,
      "outputs": []
    }
  ],
  "metadata": {
    "kernelspec": {
      "display_name": "Python 3 (ipykernel)",
      "language": "python",
      "name": "python3"
    },
    "language_info": {
      "codemirror_mode": {
        "name": "ipython",
        "version": 3
      },
      "file_extension": ".py",
      "mimetype": "text/x-python",
      "name": "python",
      "nbconvert_exporter": "python",
      "pygments_lexer": "ipython3",
      "version": "3.9.13"
    },
    "colab": {
      "provenance": []
    }
  },
  "nbformat": 4,
  "nbformat_minor": 0
}